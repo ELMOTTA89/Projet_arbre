{
 "cells": [
  {
   "cell_type": "code",
   "execution_count": 34,
   "metadata": {},
   "outputs": [
    {
     "name": "stdout",
     "output_type": "stream",
     "text": [
      "(31243, 31)\n"
     ]
    },
    {
     "data": {
      "text/plain": [
       "'ESP37898'"
      ]
     },
     "execution_count": 34,
     "metadata": {},
     "output_type": "execute_result"
    }
   ],
   "source": [
    "import csv\n",
    "import numpy as np\n",
    "import pandas as pd\n",
    "\n",
    "filename=\"trees.csv\"\n",
    "stock={\"miel\":[100,\"10/08/2025\",2],\n",
    "        \"farine\":[55,\"25/09/2024\",3],\n",
    "        \"vin\":[1800,\"18/10/2023\",10]\n",
    "        }\n",
    "df=pd.DataFrame(stock)\n",
    "df\n",
    "\n",
    "df=pd.read_csv(filename,sep=',',header=0,index_col=0)\n",
    "df.head()\n",
    "print(df.shape)\n",
    "df.columns[5]\n",
    "df['CODE']\n",
    "df.loc[37993,\"CODE_PARENT\"]\n",
    "df.describe()\n"
   ]
  }
 ],
 "metadata": {
  "kernelspec": {
   "display_name": "iteration_3",
   "language": "python",
   "name": "python3"
  },
  "language_info": {
   "codemirror_mode": {
    "name": "ipython",
    "version": 3
   },
   "file_extension": ".py",
   "mimetype": "text/x-python",
   "name": "python",
   "nbconvert_exporter": "python",
   "pygments_lexer": "ipython3",
   "version": "3.7.12"
  }
 },
 "nbformat": 4,
 "nbformat_minor": 2
}
